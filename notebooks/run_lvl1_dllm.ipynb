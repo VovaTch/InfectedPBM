{
 "cells": [
  {
   "cell_type": "markdown",
   "id": "b044c7d5",
   "metadata": {},
   "source": [
    "# Diffusion LLM Music Testing Notebook"
   ]
  },
  {
   "cell_type": "markdown",
   "id": "4829d569",
   "metadata": {},
   "source": [
    "### Change working directory to this root"
   ]
  },
  {
   "cell_type": "code",
   "execution_count": null,
   "id": "ed859be2",
   "metadata": {},
   "outputs": [],
   "source": [
    "import os\n",
    "os.chdir(\"..\")\n",
    "print(os.getcwd())"
   ]
  },
  {
   "cell_type": "markdown",
   "id": "eebb5598",
   "metadata": {},
   "source": [
    "### Imports"
   ]
  },
  {
   "cell_type": "code",
   "execution_count": null,
   "id": "55e85c67",
   "metadata": {},
   "outputs": [],
   "source": [
    "import random\n",
    "\n",
    "import torch\n",
    "import hydra\n",
    "import matplotlib.pyplot as plt\n",
    "import torchaudio\n",
    "import IPython\n",
    "import hydra\n",
    "\n",
    "from models.modules.music import MusicLightningModule\n",
    "from models.modules.diffusion_llm import DiffusionLLMLightningModule\n",
    "from utils.config import load_cfg_from_hydra\n",
    "from utils.transform_func import log_normal\n",
    "from utils.containers import MelSpecParameters\n",
    "from models.mel_spec_converters import SimpleMelSpecConverter\n",
    "from models.modules.base import load_inner_model_state_dict"
   ]
  },
  {
   "cell_type": "markdown",
   "id": "ce6947bc",
   "metadata": {},
   "source": [
    "### Load DLLM"
   ]
  },
  {
   "cell_type": "code",
   "execution_count": null,
   "id": "cd2fdcdc",
   "metadata": {},
   "outputs": [],
   "source": [
    "weights_path = \"weights/lvl1_dllm.ckpt\"\n",
    "\n",
    "device = \"cpu\"\n",
    "print(f\"Current device: {device}\")\n",
    "\n",
    "cfg_dllm = load_cfg_from_hydra(config_path=\"../config\", config_name=\"lvl1_dllm\", overrides=[\"data=lvl1_vqvae\"])\n",
    "cfg_dllm.learning.batch_size = 1\n",
    "cfg_dllm.learning.val_split = 1.0\n",
    "\n",
    "model_dllm = hydra.utils.instantiate(cfg_dllm.module, _convert_=\"partial\").to(device)\n",
    "model_dllm: DiffusionLLMLightningModule = load_inner_model_state_dict(model_dllm, weights_path).to(device)"
   ]
  },
  {
   "cell_type": "markdown",
   "id": "e1879c5b",
   "metadata": {},
   "source": [
    "### Load Tokenizer"
   ]
  },
  {
   "cell_type": "code",
   "execution_count": null,
   "id": "aa96249e",
   "metadata": {},
   "outputs": [],
   "source": [
    "\n",
    "\n",
    "weights_path = \"trained/lvl1_vqvae/model.ckpt\"\n",
    "\n",
    "cfg_tokenizer = load_cfg_from_hydra(config_path=\"../trained/lvl1_vqvae\", config_name=\"config\") \n",
    "cfg_tokenizer.learning.batch_size = 128\n",
    "cfg_tokenizer.learning.val_split = 1.0\n",
    "\n",
    "model_tokenizer = hydra.utils.instantiate(cfg_tokenizer.module, _convert_=\"partial\").to(device)\n",
    "model_tokenizer: MusicLightningModule = load_inner_model_state_dict(model_tokenizer, weights_path).to(device)"
   ]
  },
  {
   "cell_type": "markdown",
   "id": "7cd75958",
   "metadata": {},
   "source": [
    "### Initialize Mel Spec Parameters"
   ]
  },
  {
   "cell_type": "code",
   "execution_count": null,
   "id": "dadf6244",
   "metadata": {},
   "outputs": [],
   "source": [
    "n_mels = 64\n",
    "mel_spec_params = MelSpecParameters(n_fft=1024, f_min=0, hop_length=256, n_mels=n_mels, power=1.0, pad=0)\n",
    "mel_spec_converter = SimpleMelSpecConverter(mel_spec_params)\n",
    "\n",
    "mel_spec_params_2 = MelSpecParameters(n_fft=2048, f_min=0, hop_length=512, n_mels=128, power=1.0, pad=0)\n",
    "mel_spec_converter_2 = SimpleMelSpecConverter(mel_spec_params_2)\n",
    "\n",
    "mel_spec_params_3 = MelSpecParameters(n_fft=4096, f_min=0, hop_length=1024, n_mels=256, power=1.0, pad=0)\n",
    "mel_spec_converter_3 = SimpleMelSpecConverter(mel_spec_params_3)\n",
    "\n",
    "lin_vector = torch.linspace(\n",
    "    1.0,\n",
    "    1.0,\n",
    "    n_mels,\n",
    ")\n",
    "eye_mat = torch.diag(lin_vector).to(device)"
   ]
  },
  {
   "cell_type": "markdown",
   "id": "cb14a35c",
   "metadata": {},
   "source": [
    "### WAV Player element"
   ]
  },
  {
   "cell_type": "code",
   "execution_count": null,
   "id": "95a0b437",
   "metadata": {},
   "outputs": [],
   "source": [
    "# this is a wrapper that take a filename and publish an html <audio> tag to listen to it\n",
    "\n",
    "def wavPlayer(filepath):\n",
    "    \"\"\" will display html 5 player for compatible browser\n",
    "\n",
    "    Parameters :\n",
    "    ------------\n",
    "    filepath : relative filepath with respect to the notebook directory ( where the .ipynb are not cwd)\n",
    "                of the file to play\n",
    "\n",
    "    The browser need to know how to play wav through html5.\n",
    "\n",
    "    there is no autoplay to prevent file playing when the browser opens\n",
    "    \"\"\"\n",
    "    \n",
    "    src = \"\"\"\n",
    "    <head>\n",
    "    <meta http-equiv=\"Content-Type\" content=\"text/html; charset=utf-8\">\n",
    "    <title>Simple Test</title>\n",
    "    </head>\n",
    "    \n",
    "    <body>\n",
    "    <audio controls=\"controls\" style=\"width:600px\" >\n",
    "        <source src=\"files/%s\" type=\"audio/mp3\" />\n",
    "        Your browser does not support the audio element.\n",
    "    </audio>\n",
    "    </body>\n",
    "    \"\"\"%(filepath)\n",
    "    display(HTML(src))"
   ]
  },
  {
   "cell_type": "markdown",
   "id": "8573bf22",
   "metadata": {},
   "source": [
    "# Data Sample Processing"
   ]
  },
  {
   "cell_type": "markdown",
   "id": "64a2aae6",
   "metadata": {},
   "source": [
    "### Create a Data Sample"
   ]
  },
  {
   "cell_type": "code",
   "execution_count": null,
   "id": "a31f7464",
   "metadata": {},
   "outputs": [],
   "source": [
    "vocab_size = cfg_tokenizer.model.vq_module.token_dim\n",
    "num_rq_steps = cfg_tokenizer.model.vq_module.num_rq_steps\n",
    "seq_length = 512\n",
    "num_seq = 4\n",
    "sample = torch.randint(0, vocab_size, (num_seq, seq_length, num_rq_steps)).to(device) "
   ]
  },
  {
   "cell_type": "markdown",
   "id": "86ba2a0f",
   "metadata": {},
   "source": [
    "### Generate Wave From The Random Data"
   ]
  },
  {
   "cell_type": "code",
   "execution_count": null,
   "id": "09a508b6",
   "metadata": {},
   "outputs": [],
   "source": [
    "generated_waveform: torch.Tensor = model_tokenizer.model.from_tokens(sample)\n",
    "image_reshaped = generated_waveform.flatten().cpu().detach().numpy().reshape(-1)\n",
    "\n",
    "plt.figure(figsize=(30, 5))\n",
    "plt.plot(image_reshaped)\n",
    "\n",
    "plt.tight_layout()\n",
    "plt.ylim(-1.2, 1.2)\n",
    "plt.show()\n",
    "\n",
    "plt.figure(figsize=(30, 5))\n",
    "# plt.matshow(torch.tanh(eye_mat @ mel_spec_converter.convert(torch.tensor(image_reshaped))).cpu().numpy(),\n",
    "#             origin='lower', aspect='auto', vmin=0, vmax=1)\n",
    "plt.matshow(\n",
    "    log_normal(mel_spec_converter.convert(torch.tensor(image_reshaped))).cpu().numpy(),\n",
    "    origin=\"lower\",\n",
    "    aspect=\"auto\",\n",
    "    vmin=-2,\n",
    "    vmax=2,\n",
    ")\n",
    "plt.show()\n",
    "\n",
    "plt.matshow(\n",
    "    log_normal(mel_spec_converter_2.convert(torch.tensor(image_reshaped))).cpu().numpy(),\n",
    "    origin=\"lower\",\n",
    "    aspect=\"auto\",\n",
    "    vmin=-2,\n",
    "    vmax=2,\n",
    ")\n",
    "plt.show()\n",
    "\n",
    "plt.matshow(\n",
    "    log_normal(mel_spec_converter_3.convert(torch.tensor(image_reshaped))).cpu().numpy(),\n",
    "    origin=\"lower\",\n",
    "    aspect=\"auto\",\n",
    "    vmin=-2,\n",
    "    vmax=2,\n",
    ")\n",
    "plt.show()\n",
    "\n",
    "torchaudio.save('sample.mp3', generated_waveform.flatten().unsqueeze(0).cpu().detach(), 44100, format='mp3') # type: ignore\n",
    "IPython.display.Audio(filename=\"sample.mp3\") # type: ignore"
   ]
  },
  {
   "cell_type": "markdown",
   "id": "58950a89",
   "metadata": {},
   "source": [
    "# Generated Data Processing"
   ]
  },
  {
   "cell_type": "code",
   "execution_count": null,
   "id": "fc85a82d",
   "metadata": {},
   "outputs": [],
   "source": [
    "model_dllm.generate()"
   ]
  }
 ],
 "metadata": {
  "kernelspec": {
   "display_name": "infected_pbm",
   "language": "python",
   "name": "python3"
  },
  "language_info": {
   "codemirror_mode": {
    "name": "ipython",
    "version": 3
   },
   "file_extension": ".py",
   "mimetype": "text/x-python",
   "name": "python",
   "nbconvert_exporter": "python",
   "pygments_lexer": "ipython3",
   "version": "3.12.8"
  }
 },
 "nbformat": 4,
 "nbformat_minor": 5
}
