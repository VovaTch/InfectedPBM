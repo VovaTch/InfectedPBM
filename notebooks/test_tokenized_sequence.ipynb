{
 "cells": [
  {
   "cell_type": "markdown",
   "metadata": {},
   "source": [
    "# Notebook for testing tokanization reconstruction"
   ]
  },
  {
   "cell_type": "markdown",
   "metadata": {},
   "source": [
    "### Change working directory to this root"
   ]
  },
  {
   "cell_type": "code",
   "execution_count": 1,
   "metadata": {},
   "outputs": [],
   "source": [
    "import os\n",
    "os.chdir(\"..\")"
   ]
  },
  {
   "cell_type": "markdown",
   "metadata": {},
   "source": [
    "### Imports\n"
   ]
  },
  {
   "cell_type": "code",
   "execution_count": null,
   "metadata": {},
   "outputs": [],
   "source": [
    "import random\n",
    "\n",
    "import torch\n",
    "import matplotlib.pyplot as plt\n",
    "import torchaudio\n",
    "import IPython\n",
    "import hydra\n",
    "\n",
    "from utils.config import load_cfg_from_hydra\n",
    "from utils.containers import MelSpecParameters\n",
    "from models.mel_spec_converters import SimpleMelSpecConverter\n"
   ]
  },
  {
   "cell_type": "markdown",
   "metadata": {},
   "source": [
    "### Load tokenizer model"
   ]
  },
  {
   "cell_type": "code",
   "execution_count": null,
   "metadata": {},
   "outputs": [],
   "source": [
    "# weights path\n",
    "weights_path = \"weights/tokenizer_best.ckpt\"\n",
    "\n",
    "# Infer device\n",
    "# device = \"cuda\" if torch.cuda.is_available() else \"cpu\"\n",
    "device = \"cpu\"\n",
    "print(f\"Current device is {device}\")\n",
    "\n",
    "# Load network\n",
    "cfg_tokenizer = load_cfg_from_hydra(config_path=\"../config\", config_name=\"config\")\n",
    "cfg_mamba = load_cfg_from_hydra(config_path=\"../config\", config_name=\"mamba\")\n",
    "cfg_mamba.dataset.index_series_length = 1024\n",
    "cfg_tokenizer.learning.batch_size = 128\n",
    "cfg_tokenizer.learning.val_split = 1.0 # Will it let me do that?\n",
    "tokenizer_module = hydra.utils.instantiate(cfg_tokenizer.model, cfg=cfg_tokenizer).to(device)\n",
    "mamba_module = hydra.utils.instantiate(cfg_mamba.model, cfg=cfg_mamba).to(device)"
   ]
  },
  {
   "cell_type": "markdown",
   "metadata": {},
   "source": [
    "### Load tokenized data loader"
   ]
  },
  {
   "cell_type": "code",
   "execution_count": null,
   "metadata": {},
   "outputs": [],
   "source": [
    "dataset = hydra.utils.instantiate(cfg_mamba.dataset, cfg=cfg_mamba.dataset)\n",
    "dataset_len = len(dataset)\n",
    "\n",
    "dataset_slice = {\"indices\": torch.tensor(cfg_tokenizer.model.vocabulary_size).unsqueeze(0)}\n",
    "\n",
    "# Select a random sample\n",
    "while sum(dataset_slice[\"indices\"] == cfg_tokenizer.model.vocabulary_size) > 0 or\\\n",
    "    sum(dataset_slice[\"indices\"] == cfg_tokenizer.model.vocabulary_size + 1) > 0:\n",
    "        \n",
    "    sample_start = random.randint(0, dataset_len - 1)\n",
    "    dataset_slice = dataset[sample_start] # type: ignore\n",
    "    indices_sample = dataset_slice[\"indices\"].view(-1, 4)\n",
    "    \n",
    "print(f\"Indices sample size: {indices_sample.size()}\")"
   ]
  },
  {
   "cell_type": "markdown",
   "metadata": {},
   "source": [
    "### WAV player element"
   ]
  },
  {
   "cell_type": "code",
   "execution_count": 5,
   "metadata": {},
   "outputs": [],
   "source": [
    "# this is a wrapper that take a filename and publish an html <audio> tag to listen to it\n",
    "\n",
    "def wavPlayer(filepath):\n",
    "    \"\"\" will display html 5 player for compatible browser\n",
    "\n",
    "    Parameters :\n",
    "    ------------\n",
    "    filepath : relative filepath with respect to the notebook directory ( where the .ipynb are not cwd)\n",
    "                of the file to play\n",
    "\n",
    "    The browser need to know how to play wav through html5.\n",
    "\n",
    "    there is no autoplay to prevent file playing when the browser opens\n",
    "    \"\"\"\n",
    "    \n",
    "    src = \"\"\"\n",
    "    <head>\n",
    "    <meta http-equiv=\"Content-Type\" content=\"text/html; charset=utf-8\">\n",
    "    <title>Simple Test</title>\n",
    "    </head>\n",
    "    \n",
    "    <body>\n",
    "    <audio controls=\"controls\" style=\"width:600px\" >\n",
    "        <source src=\"files/%s\" type=\"audio/mp3\" />\n",
    "        Your browser does not support the audio element.\n",
    "    </audio>\n",
    "    </body>\n",
    "    \"\"\"%(filepath)\n",
    "    display(HTML(src))"
   ]
  },
  {
   "cell_type": "markdown",
   "metadata": {},
   "source": [
    "### Initialize Mel Spectrogram converter"
   ]
  },
  {
   "cell_type": "code",
   "execution_count": 6,
   "metadata": {},
   "outputs": [],
   "source": [
    "n_mels = 32\n",
    "mel_spec_params = MelSpecParameters(n_fft=1024, f_min=0, hop_length=64, n_mels=n_mels, power=1.0, pad=0)\n",
    "mel_spec_converter = SimpleMelSpecConverter(mel_spec_params)\n",
    "\n",
    "lin_vector = torch.linspace(\n",
    "    1.0,\n",
    "    1.0,\n",
    "    n_mels,\n",
    ")\n",
    "eye_mat = torch.diag(lin_vector).to(device)"
   ]
  },
  {
   "cell_type": "markdown",
   "metadata": {},
   "source": [
    "## Rebuild Tokenized Slice"
   ]
  },
  {
   "cell_type": "code",
   "execution_count": null,
   "metadata": {},
   "outputs": [],
   "source": [
    "print(indices_sample.size())\n",
    "tokenizer_output = tokenizer_module.model.from_tokens(indices_sample.unsqueeze(-1))"
   ]
  }
 ],
 "metadata": {
  "kernelspec": {
   "display_name": "BPM",
   "language": "python",
   "name": "python3"
  },
  "language_info": {
   "codemirror_mode": {
    "name": "ipython",
    "version": 3
   },
   "file_extension": ".py",
   "mimetype": "text/x-python",
   "name": "python",
   "nbconvert_exporter": "python",
   "pygments_lexer": "ipython3",
   "version": "3.11.7"
  }
 },
 "nbformat": 4,
 "nbformat_minor": 2
}
