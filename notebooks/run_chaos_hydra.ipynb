{
 "cells": [
  {
   "cell_type": "markdown",
   "metadata": {},
   "source": [
    "# Auto-Regressive Chaos Hydra Test Notebook"
   ]
  },
  {
   "cell_type": "markdown",
   "metadata": {},
   "source": [
    "### Change working directory to this root"
   ]
  },
  {
   "cell_type": "code",
   "execution_count": null,
   "metadata": {},
   "outputs": [],
   "source": [
    "import os\n",
    "os.chdir(\"..\")"
   ]
  },
  {
   "cell_type": "markdown",
   "metadata": {},
   "source": [
    "### Imports"
   ]
  },
  {
   "cell_type": "code",
   "execution_count": null,
   "metadata": {},
   "outputs": [],
   "source": [
    "import IPython\n",
    "\n",
    "import torch\n",
    "import matplotlib.pyplot as plt\n",
    "import torchaudio\n",
    "import numpy as np\n",
    "\n",
    "from common import registry\n",
    "from utils.config import load_cfg_from_hydra\n",
    "from models.pipeline import AutoRegressivePipeline"
   ]
  },
  {
   "cell_type": "markdown",
   "metadata": {},
   "source": [
    "### Load Model"
   ]
  },
  {
   "cell_type": "code",
   "execution_count": null,
   "metadata": {},
   "outputs": [],
   "source": [
    "# Tokenizer weights path\n",
    "tokenizer_path = \"weights/tokenizer_best.ckpt\"\n",
    "mamba_path = \"weights/mamba_best.ckpt\"\n",
    "\n",
    "# Infer device\n",
    "device = \"cuda\" if torch.cuda.is_available() else \"cpu\"\n",
    "# device = \"cpu\"\n",
    "print(f\"Current device is {device}\")\n",
    "\n",
    "# Load tokenizer\n",
    "cfg = load_cfg_from_hydra(config_path=\"../config\", config_name=\"config\")\n",
    "cfg.learning.batch_size = 512\n",
    "cfg.learning.val_split = 1.0 # Will it let me do that?\n",
    "tokenizer = registry.get_lightning_module(cfg.model.module_type).from_cfg(cfg, tokenizer_path).to(device).eval()\n",
    "\n",
    "# Load Chaos Hydra\n",
    "cfg_hydra = load_cfg_from_hydra(config_path=\"../config\", config_name=\"mamba\")\n",
    "cfg_hydra.learning.batch_size = 512\n",
    "cfg_hydra.learning.val_split = 1.0 # Will it let me do that?\n",
    "chaos_hydra = registry.get_lightning_module(cfg_hydra.model.module_type).from_cfg(cfg_hydra, mamba_path).to(device).eval()\n"
   ]
  },
  {
   "cell_type": "markdown",
   "metadata": {},
   "source": [
    "### Wav Player Element"
   ]
  },
  {
   "cell_type": "code",
   "execution_count": null,
   "metadata": {},
   "outputs": [],
   "source": [
    "# this is a wrapper that take a filename and publish an html <audio> tag to listen to it\n",
    "\n",
    "def wavPlayer(filepath):\n",
    "    \"\"\" will display html 5 player for compatible browser\n",
    "\n",
    "    Parameters :\n",
    "    ------------\n",
    "    filepath : relative filepath with respect to the notebook directory ( where the .ipynb are not cwd)\n",
    "                of the file to play\n",
    "\n",
    "    The browser need to know how to play wav through html5.\n",
    "\n",
    "    there is no autoplay to prevent file playing when the browser opens\n",
    "    \"\"\"\n",
    "    \n",
    "    src = \"\"\"\n",
    "    <head>\n",
    "    <meta http-equiv=\"Content-Type\" content=\"text/html; charset=utf-8\">\n",
    "    <title>Simple Test</title>\n",
    "    </head>\n",
    "    \n",
    "    <body>\n",
    "    <audio controls=\"controls\" style=\"width:600px\" >\n",
    "        <source src=\"files/%s\" type=\"audio/mp3\" />\n",
    "        Your browser does not support the audio element.\n",
    "    </audio>\n",
    "    </body>\n",
    "    \"\"\"%(filepath)\n",
    "    display(HTML(src))"
   ]
  },
  {
   "cell_type": "markdown",
   "metadata": {},
   "source": [
    "## Generate music from random initial point"
   ]
  },
  {
   "cell_type": "code",
   "execution_count": null,
   "metadata": {},
   "outputs": [],
   "source": [
    "slice_length = 8192\n",
    "\n",
    "pipeline = AutoRegressivePipeline(tokenizer.model, chaos_hydra) # type: ignore\n",
    "# random_initial_point = torch.randint(0, cfg_hydra.model.vocabulary_size, (1, 1, 16)).to(device)\n",
    "random_initial_point = torch.ones((1, 1, 16)).to(device).int() * 1024\n",
    "\n",
    "with torch.no_grad():\n",
    "    series = pipeline.create_fixed_music_slice(random_initial_point, slice_length, top_k=5, temperature=0.6) \n",
    "print(series.shape)"
   ]
  },
  {
   "cell_type": "markdown",
   "metadata": {},
   "source": [
    "### Display and play"
   ]
  },
  {
   "cell_type": "code",
   "execution_count": null,
   "metadata": {},
   "outputs": [],
   "source": [
    "image_reshaped = series.flatten().cpu().numpy() # type: ignore\n",
    "print(series.shape)\n",
    "\n",
    "plt.figure(figsize=(30, 5))\n",
    "plt.plot(image_reshaped)\n",
    "\n",
    "plt.tight_layout()\n",
    "plt.ylim(-1.2, 1.2)\n",
    "plt.show()\n",
    "\n",
    "torchaudio.save('sample.mp3', series.cpu().detach(), 44100, format='mp3') # type: ignore\n",
    "IPython.display.Audio(filename=\"sample.mp3\") # type: ignore"
   ]
  }
 ],
 "metadata": {
  "kernelspec": {
   "display_name": "BPM",
   "language": "python",
   "name": "python3"
  },
  "language_info": {
   "codemirror_mode": {
    "name": "ipython",
    "version": 3
   },
   "file_extension": ".py",
   "mimetype": "text/x-python",
   "name": "python",
   "nbconvert_exporter": "python",
   "pygments_lexer": "ipython3",
   "version": "3.11.7"
  }
 },
 "nbformat": 4,
 "nbformat_minor": 2
}
